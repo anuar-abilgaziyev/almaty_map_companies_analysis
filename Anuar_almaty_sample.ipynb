{
 "cells": [
  {
   "cell_type": "code",
   "execution_count": 1,
   "metadata": {},
   "outputs": [],
   "source": [
    "import pandas as pd\n",
    "import folium"
   ]
  },
  {
   "cell_type": "code",
   "execution_count": 2,
   "metadata": {},
   "outputs": [
    {
     "data": {
      "text/html": [
       "<div>\n",
       "<style scoped>\n",
       "    .dataframe tbody tr th:only-of-type {\n",
       "        vertical-align: middle;\n",
       "    }\n",
       "\n",
       "    .dataframe tbody tr th {\n",
       "        vertical-align: top;\n",
       "    }\n",
       "\n",
       "    .dataframe thead th {\n",
       "        text-align: right;\n",
       "    }\n",
       "</style>\n",
       "<table border=\"1\" class=\"dataframe\">\n",
       "  <thead>\n",
       "    <tr style=\"text-align: right;\">\n",
       "      <th></th>\n",
       "      <th>Название компании</th>\n",
       "      <th>Адрес</th>\n",
       "      <th>Деятельность</th>\n",
       "      <th>Руководитель</th>\n",
       "      <th>Кол-во сотрудников</th>\n",
       "      <th>БИН</th>\n",
       "      <th>Адрес_1</th>\n",
       "      <th>url</th>\n",
       "      <th>url_with_coordinates</th>\n",
       "      <th>lat</th>\n",
       "      <th>long</th>\n",
       "    </tr>\n",
       "  </thead>\n",
       "  <tbody>\n",
       "    <tr>\n",
       "      <th>479</th>\n",
       "      <td>А-БЕК, ТОО</td>\n",
       "      <td>Казахстан, Алматы Город, , 17</td>\n",
       "      <td>Строительство жилых зданий</td>\n",
       "      <td>Абишев Шамиль Болатович — руководитель</td>\n",
       "      <td>small</td>\n",
       "      <td>БИН 060540011152</td>\n",
       "      <td>г.Алматы  17</td>\n",
       "      <td>https://www.google.com/maps/search/г.Алматы  17</td>\n",
       "      <td>https://maps.google.com/maps/api/staticmap?cen...</td>\n",
       "      <td>43.232558</td>\n",
       "      <td>76.928700</td>\n",
       "    </tr>\n",
       "    <tr>\n",
       "      <th>1039</th>\n",
       "      <td>ВЕРМИ ГАСТРО МАШИНЕН, ТОО</td>\n",
       "      <td>Казахстан, Алматы Город, Улица Сатпаева, 32а</td>\n",
       "      <td>Розничная торговля осветительными приборами и ...</td>\n",
       "      <td>Мокин Игорь Витальевич — руководитель</td>\n",
       "      <td>small</td>\n",
       "      <td>БИН 060440013006</td>\n",
       "      <td>г.Алматы ул. Сатпаева 32а</td>\n",
       "      <td>https://www.google.com/maps/search/г.Алматы ул...</td>\n",
       "      <td>https://maps.google.com/maps/api/staticmap?cen...</td>\n",
       "      <td>43.235409</td>\n",
       "      <td>76.905445</td>\n",
       "    </tr>\n",
       "    <tr>\n",
       "      <th>928</th>\n",
       "      <td>ADIANA INTERIO, ТОО</td>\n",
       "      <td>Казахстан, Алматы Город, Улица Бухтарминская, 4</td>\n",
       "      <td>Деятельность рекламных агентств</td>\n",
       "      <td>Естенов Адилет Аблахатович — руководитель</td>\n",
       "      <td>small</td>\n",
       "      <td>БИН 060440005858</td>\n",
       "      <td>г.Алматы ул. Бухтарминская 4</td>\n",
       "      <td>https://www.google.com/maps/search/г.Алматы ул...</td>\n",
       "      <td>https://maps.google.com/maps/api/staticmap?cen...</td>\n",
       "      <td>43.327832</td>\n",
       "      <td>77.011901</td>\n",
       "    </tr>\n",
       "  </tbody>\n",
       "</table>\n",
       "</div>"
      ],
      "text/plain": [
       "              Название компании  \\\n",
       "479                  А-БЕК, ТОО   \n",
       "1039  ВЕРМИ ГАСТРО МАШИНЕН, ТОО   \n",
       "928         ADIANA INTERIO, ТОО   \n",
       "\n",
       "                                                Адрес  \\\n",
       "479                     Казахстан, Алматы Город, , 17   \n",
       "1039     Казахстан, Алматы Город, Улица Сатпаева, 32а   \n",
       "928   Казахстан, Алматы Город, Улица Бухтарминская, 4   \n",
       "\n",
       "                                           Деятельность  \\\n",
       "479                          Строительство жилых зданий   \n",
       "1039  Розничная торговля осветительными приборами и ...   \n",
       "928                     Деятельность рекламных агентств   \n",
       "\n",
       "                                   Руководитель Кол-во сотрудников  \\\n",
       "479      Абишев Шамиль Болатович — руководитель              small   \n",
       "1039      Мокин Игорь Витальевич — руководитель              small   \n",
       "928   Естенов Адилет Аблахатович — руководитель              small   \n",
       "\n",
       "                   БИН                       Адрес_1  \\\n",
       "479   БИН 060540011152                  г.Алматы  17   \n",
       "1039  БИН 060440013006     г.Алматы ул. Сатпаева 32а   \n",
       "928   БИН 060440005858  г.Алматы ул. Бухтарминская 4   \n",
       "\n",
       "                                                    url  \\\n",
       "479     https://www.google.com/maps/search/г.Алматы  17   \n",
       "1039  https://www.google.com/maps/search/г.Алматы ул...   \n",
       "928   https://www.google.com/maps/search/г.Алматы ул...   \n",
       "\n",
       "                                   url_with_coordinates        lat       long  \n",
       "479   https://maps.google.com/maps/api/staticmap?cen...  43.232558  76.928700  \n",
       "1039  https://maps.google.com/maps/api/staticmap?cen...  43.235409  76.905445  \n",
       "928   https://maps.google.com/maps/api/staticmap?cen...  43.327832  77.011901  "
      ]
     },
     "execution_count": 2,
     "metadata": {},
     "output_type": "execute_result"
    }
   ],
   "source": [
    "almaty_sample = pd.read_csv('almaty_sample.csv')\n",
    "almaty_sample.sample(3)"
   ]
  },
  {
   "cell_type": "code",
   "execution_count": 3,
   "metadata": {},
   "outputs": [
    {
     "data": {
      "text/html": [
       "\n",
       "        <iframe\n",
       "            width=\"100%\"\n",
       "            height=\"500\"\n",
       "            src=\"almaty_sample_map.html\"\n",
       "            frameborder=\"0\"\n",
       "            allowfullscreen\n",
       "        ></iframe>\n",
       "        "
      ],
      "text/plain": [
       "<IPython.lib.display.IFrame at 0x250954df160>"
      ]
     },
     "execution_count": 3,
     "metadata": {},
     "output_type": "execute_result"
    }
   ],
   "source": [
    "from IPython.display import IFrame\n",
    "\n",
    "almaty_sample_large  = almaty_sample[almaty_sample['Кол-во сотрудников'] == 'large']\n",
    "almaty_sample_medium = almaty_sample[almaty_sample['Кол-во сотрудников'] == 'medium']\n",
    "almaty_sample_small  = almaty_sample[almaty_sample['Кол-во сотрудников'] == 'small']\n",
    "almaty_sample_other  = almaty_sample[almaty_sample['Кол-во сотрудников'] == '']\n",
    "\n",
    "almaty_sample_map = folium.Map( [43.2220, 76.8512], tiles='CartoDB positron' )\n",
    "   \n",
    "for lat, long, name, full_address in zip(almaty_sample_large.lat, almaty_sample_large.long, almaty_sample_large['Название компании'], almaty_sample_large.Адрес_1):\n",
    "    folium.Marker( [lat, long], \n",
    "                   icon=folium.CustomIcon( icon_image='https://i.imgur.com/CYx04oC.png', icon_size=(10,10) ), popup=name+'\\n\\n'+full_address ).add_to(almaty_sample_map)\n",
    "\n",
    "for lat, long, name, afull_address in zip(almaty_sample_medium.lat, almaty_sample_medium.long, almaty_sample_medium['Название компании'], almaty_sample_medium.Адрес_1):\n",
    "    folium.Marker( [lat, long], \n",
    "                   icon=folium.CustomIcon( icon_image='https://i.imgur.com/CYx04oC.png', icon_size=(8,8) ), popup=name+'\\n\\n'+full_address ).add_to(almaty_sample_map)\n",
    "    \n",
    "for lat, long, name, full_address in zip(almaty_sample_small.lat, almaty_sample_small.long, almaty_sample_small['Название компании'], almaty_sample_small.Адрес_1):\n",
    "    folium.Marker( [lat, long], \n",
    "                   icon=folium.CustomIcon( icon_image='https://i.imgur.com/CYx04oC.png', icon_size=(6,6) ), popup=name+'\\n\\n'+full_address ).add_to(almaty_sample_map)\n",
    "    \n",
    "for lat, long, name, full_address in zip(almaty_sample_other.lat, almaty_sample_other.long, almaty_sample_other['Название компании'], almaty_sample_other.Адрес_1):\n",
    "    folium.Marker( [lat, long], \n",
    "                   icon=folium.CustomIcon( icon_image='https://i.imgur.com/CYx04oC.png', icon_size=(4,4) ), popup=name+'\\n\\n'+full_address ).add_to(almaty_sample_map)\n",
    "\n",
    "\n",
    "almaty_sample_map.save('almaty_sample_map.html')\n",
    "IFrame(src='almaty_sample_map.html', width='100%', height=500)"
   ]
  }
 ],
 "metadata": {
  "kernelspec": {
   "display_name": "Python 3",
   "language": "python",
   "name": "python3"
  },
  "language_info": {
   "codemirror_mode": {
    "name": "ipython",
    "version": 3
   },
   "file_extension": ".py",
   "mimetype": "text/x-python",
   "name": "python",
   "nbconvert_exporter": "python",
   "pygments_lexer": "ipython3",
   "version": "3.7.3"
  }
 },
 "nbformat": 4,
 "nbformat_minor": 4
}
